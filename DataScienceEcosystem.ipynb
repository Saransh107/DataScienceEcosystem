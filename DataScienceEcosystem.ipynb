{
 "cells": [
  {
   "cell_type": "markdown",
   "id": "35215267-1373-41c3-bdcc-cdadaf90aa33",
   "metadata": {},
   "source": [
    "<center>\n",
    "    <img src=\"https://cf-courses-data.s3.us.cloud-object-storage.appdomain.cloud/IBMDeveloperSkillsNetwork-DS0105EN-SkillsNetwork/labs/Module2/images/SN_web_lightmode.png\" width=\"300\" alt=\"cognitiveclass.ai logo\">\n",
    "</center>\n"
   ]
  },
  {
   "cell_type": "markdown",
   "id": "fa05217e-7153-4497-9432-86b8fae698ab",
   "metadata": {},
   "source": [
    "#### Add your code below following the instructions given in the course\n"
   ]
  },
  {
   "cell_type": "markdown",
   "id": "10dfb4a8-c821-4e04-bbc3-1d6c3dd9e282",
   "metadata": {},
   "source": [
    "# Data Science Tools and Ecosystem\n"
   ]
  },
  {
   "cell_type": "markdown",
   "id": "14d9d821-a386-46d3-91e9-8002519caf1e",
   "metadata": {},
   "source": [
    "In this notebook, Data Science Tools and Ecosystem are summarized.\n"
   ]
  },
  {
   "cell_type": "markdown",
   "id": "d6dd2c2a-30c7-4ce0-a6a8-95ce8b3ab36b",
   "metadata": {
    "tags": []
   },
   "source": [
    "**Objectives:**\n",
    "\n",
    "- List popular languages for Data Science.\n",
    "- Highlight commonly used libraries in data science.\n",
    "- Introduce key open source data science tools.\n",
    "- Provide examples of evaluating arithmetic expressions in Python.\n",
    "- Demonstrate basic mathematical operations for data manipulation.\n"
   ]
  },
  {
   "cell_type": "markdown",
   "id": "85e9b3c9-5747-4824-878f-a01fd2bd7b82",
   "metadata": {},
   "source": [
    "Some of the popular languages that Data Scientists use are:\n",
    "\n",
    "1. Python \n",
    "2. R \n",
    "3. SQL \n",
    "4. JAVA \n",
    "5. Julia \n",
    "6. Scala"
   ]
  },
  {
   "cell_type": "markdown",
   "id": "4a51f725-6410-46ec-ab39-c4dc648c5540",
   "metadata": {},
   "source": [
    "Some of the commonly used libraries used by Data Scientists include:\n",
    "\n",
    "1. NumPy\n",
    "2. Pandas\n",
    "3. Scikit-learn\n",
    "4. Matplotlib\n",
    "5. Seaborn\n",
    "6. TensorFlow\n",
    "7. Keras\n",
    "8. PyTorch\n",
    "9. SQLAlchemy\n",
    "10. spaCy\n",
    "11. StatsModels\n",
    "12. Plotly\n",
    "\n"
   ]
  },
  {
   "cell_type": "markdown",
   "id": "9b163590-df2e-42c1-831a-eb822f14920b",
   "metadata": {
    "tags": []
   },
   "source": [
    "| Data Science Tools |\n",
    "| ------------------ |\n",
    "| Jupyter Notebooks           |\n",
    "| Spyder             |\n",
    "| Pytorch            |\n",
    "| TensorFlow         |\n",
    "| Apache Spark       |\n"
   ]
  },
  {
   "cell_type": "markdown",
   "id": "cac0b4c4-6e1e-461f-8745-7c5ba1bf6b7c",
   "metadata": {
    "tags": []
   },
   "source": [
    "### Below are a few examples of evaluating arithmetic expressions in Python.\n"
   ]
  },
  {
   "cell_type": "code",
   "execution_count": 4,
   "id": "400c877b-a47e-47b8-8d6d-90764e873dc1",
   "metadata": {
    "tags": []
   },
   "outputs": [
    {
     "data": {
      "text/plain": [
       "17"
      ]
     },
     "execution_count": 4,
     "metadata": {},
     "output_type": "execute_result"
    }
   ],
   "source": [
    "(3*4)+5"
   ]
  },
  {
   "cell_type": "code",
   "execution_count": 5,
   "id": "4623807f-a373-4912-b148-587f943aaab2",
   "metadata": {
    "tags": []
   },
   "outputs": [
    {
     "data": {
      "text/plain": [
       "3.3333333333333335"
      ]
     },
     "execution_count": 5,
     "metadata": {},
     "output_type": "execute_result"
    }
   ],
   "source": [
    "# Convert 200 minutes to hours\n",
    "minutes = 200\n",
    "hours = minutes / 60\n",
    "hours\n"
   ]
  },
  {
   "cell_type": "markdown",
   "id": "65f9cbd9-4be7-409c-837d-20d3d81fef1e",
   "metadata": {},
   "source": [
    "## Author\n",
    "Saransh Mishra"
   ]
  },
  {
   "cell_type": "code",
   "execution_count": null,
   "id": "5f9a4718-4fb0-47d6-b4f7-c6f4162da930",
   "metadata": {},
   "outputs": [],
   "source": []
  }
 ],
 "metadata": {
  "kernelspec": {
   "display_name": "Python",
   "language": "python",
   "name": "conda-env-python-py"
  },
  "language_info": {
   "codemirror_mode": {
    "name": "ipython",
    "version": 3
   },
   "file_extension": ".py",
   "mimetype": "text/x-python",
   "name": "python",
   "nbconvert_exporter": "python",
   "pygments_lexer": "ipython3",
   "version": "3.7.12"
  }
 },
 "nbformat": 4,
 "nbformat_minor": 5
}
